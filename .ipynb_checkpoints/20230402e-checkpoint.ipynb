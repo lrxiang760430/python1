{
 "cells": [
  {
   "cell_type": "code",
   "execution_count": null,
   "id": "a53a2250-e2e5-417c-9a87-20d12f0c0e94",
   "metadata": {
    "tags": []
   },
   "outputs": [],
   "source": [
    "import pandas as pd\n",
    "df=pd.read_csv('D:/tools/chr/20230331/20230331bak.csv')\n",
    "print(df)\n",
    "df1=df['\\tBYE消息Reason头域内容\\t']\n",
    "print(df1)\n",
    "df1.to_csv('D:/tools/chr/20230331/20230402BYE.csv')"
   ]
  },
  {
   "cell_type": "code",
   "execution_count": null,
   "id": "b687effc-83d9-4654-9d8b-17fb33226ea7",
   "metadata": {},
   "outputs": [],
   "source": []
  }
 ],
 "metadata": {
  "kernelspec": {
   "display_name": "Python 3 (ipykernel)",
   "language": "python",
   "name": "python3"
  },
  "language_info": {
   "codemirror_mode": {
    "name": "ipython",
    "version": 3
   },
   "file_extension": ".py",
   "mimetype": "text/x-python",
   "name": "python",
   "nbconvert_exporter": "python",
   "pygments_lexer": "ipython3",
   "version": "3.9.1"
  }
 },
 "nbformat": 4,
 "nbformat_minor": 5
}
